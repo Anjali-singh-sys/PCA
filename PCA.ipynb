{
 "cells": [
  {
   "cell_type": "markdown",
   "metadata": {},
   "source": [
    "# Importing the library"
   ]
  },
  {
   "cell_type": "code",
   "execution_count": 40,
   "metadata": {
    "ExecuteTime": {
     "end_time": "2021-02-13T17:00:29.059519Z",
     "start_time": "2021-02-13T17:00:26.757711Z"
    }
   },
   "outputs": [],
   "source": [
    "import pandas as pd\n",
    "import numpy as np\n",
    "import matplotlib.pyplot as plt\n",
    "from sklearn.decomposition import PCA\n",
    "from sklearn.preprocessing import scale\n",
    "from scipy.cluster.hierarchy import linkage\n",
    "import scipy.cluster.hierarchy as sch\n",
    "from sklearn.cluster import AgglomerativeClustering\n",
    "from sklearn.cluster import KMeans\n",
    "import seaborn as sns\n",
    "\n",
    "\n"
   ]
  },
  {
   "cell_type": "markdown",
   "metadata": {},
   "source": [
    "# Importing the data"
   ]
  },
  {
   "cell_type": "code",
   "execution_count": 4,
   "metadata": {
    "ExecuteTime": {
     "end_time": "2021-02-13T14:11:22.535048Z",
     "start_time": "2021-02-13T14:11:21.985804Z"
    }
   },
   "outputs": [
    {
     "data": {
      "text/html": [
       "<div>\n",
       "<style scoped>\n",
       "    .dataframe tbody tr th:only-of-type {\n",
       "        vertical-align: middle;\n",
       "    }\n",
       "\n",
       "    .dataframe tbody tr th {\n",
       "        vertical-align: top;\n",
       "    }\n",
       "\n",
       "    .dataframe thead th {\n",
       "        text-align: right;\n",
       "    }\n",
       "</style>\n",
       "<table border=\"1\" class=\"dataframe\">\n",
       "  <thead>\n",
       "    <tr style=\"text-align: right;\">\n",
       "      <th></th>\n",
       "      <th>Type</th>\n",
       "      <th>Alcohol</th>\n",
       "      <th>Malic</th>\n",
       "      <th>Ash</th>\n",
       "      <th>Alcalinity</th>\n",
       "      <th>Magnesium</th>\n",
       "      <th>Phenols</th>\n",
       "      <th>Flavanoids</th>\n",
       "      <th>Nonflavanoids</th>\n",
       "      <th>Proanthocyanins</th>\n",
       "      <th>Color</th>\n",
       "      <th>Hue</th>\n",
       "      <th>Dilution</th>\n",
       "      <th>Proline</th>\n",
       "    </tr>\n",
       "  </thead>\n",
       "  <tbody>\n",
       "    <tr>\n",
       "      <th>0</th>\n",
       "      <td>1</td>\n",
       "      <td>14.23</td>\n",
       "      <td>1.71</td>\n",
       "      <td>2.43</td>\n",
       "      <td>15.6</td>\n",
       "      <td>127</td>\n",
       "      <td>2.80</td>\n",
       "      <td>3.06</td>\n",
       "      <td>0.28</td>\n",
       "      <td>2.29</td>\n",
       "      <td>5.64</td>\n",
       "      <td>1.04</td>\n",
       "      <td>3.92</td>\n",
       "      <td>1065</td>\n",
       "    </tr>\n",
       "    <tr>\n",
       "      <th>1</th>\n",
       "      <td>1</td>\n",
       "      <td>13.20</td>\n",
       "      <td>1.78</td>\n",
       "      <td>2.14</td>\n",
       "      <td>11.2</td>\n",
       "      <td>100</td>\n",
       "      <td>2.65</td>\n",
       "      <td>2.76</td>\n",
       "      <td>0.26</td>\n",
       "      <td>1.28</td>\n",
       "      <td>4.38</td>\n",
       "      <td>1.05</td>\n",
       "      <td>3.40</td>\n",
       "      <td>1050</td>\n",
       "    </tr>\n",
       "    <tr>\n",
       "      <th>2</th>\n",
       "      <td>1</td>\n",
       "      <td>13.16</td>\n",
       "      <td>2.36</td>\n",
       "      <td>2.67</td>\n",
       "      <td>18.6</td>\n",
       "      <td>101</td>\n",
       "      <td>2.80</td>\n",
       "      <td>3.24</td>\n",
       "      <td>0.30</td>\n",
       "      <td>2.81</td>\n",
       "      <td>5.68</td>\n",
       "      <td>1.03</td>\n",
       "      <td>3.17</td>\n",
       "      <td>1185</td>\n",
       "    </tr>\n",
       "    <tr>\n",
       "      <th>3</th>\n",
       "      <td>1</td>\n",
       "      <td>14.37</td>\n",
       "      <td>1.95</td>\n",
       "      <td>2.50</td>\n",
       "      <td>16.8</td>\n",
       "      <td>113</td>\n",
       "      <td>3.85</td>\n",
       "      <td>3.49</td>\n",
       "      <td>0.24</td>\n",
       "      <td>2.18</td>\n",
       "      <td>7.80</td>\n",
       "      <td>0.86</td>\n",
       "      <td>3.45</td>\n",
       "      <td>1480</td>\n",
       "    </tr>\n",
       "    <tr>\n",
       "      <th>4</th>\n",
       "      <td>1</td>\n",
       "      <td>13.24</td>\n",
       "      <td>2.59</td>\n",
       "      <td>2.87</td>\n",
       "      <td>21.0</td>\n",
       "      <td>118</td>\n",
       "      <td>2.80</td>\n",
       "      <td>2.69</td>\n",
       "      <td>0.39</td>\n",
       "      <td>1.82</td>\n",
       "      <td>4.32</td>\n",
       "      <td>1.04</td>\n",
       "      <td>2.93</td>\n",
       "      <td>735</td>\n",
       "    </tr>\n",
       "    <tr>\n",
       "      <th>...</th>\n",
       "      <td>...</td>\n",
       "      <td>...</td>\n",
       "      <td>...</td>\n",
       "      <td>...</td>\n",
       "      <td>...</td>\n",
       "      <td>...</td>\n",
       "      <td>...</td>\n",
       "      <td>...</td>\n",
       "      <td>...</td>\n",
       "      <td>...</td>\n",
       "      <td>...</td>\n",
       "      <td>...</td>\n",
       "      <td>...</td>\n",
       "      <td>...</td>\n",
       "    </tr>\n",
       "    <tr>\n",
       "      <th>173</th>\n",
       "      <td>3</td>\n",
       "      <td>13.71</td>\n",
       "      <td>5.65</td>\n",
       "      <td>2.45</td>\n",
       "      <td>20.5</td>\n",
       "      <td>95</td>\n",
       "      <td>1.68</td>\n",
       "      <td>0.61</td>\n",
       "      <td>0.52</td>\n",
       "      <td>1.06</td>\n",
       "      <td>7.70</td>\n",
       "      <td>0.64</td>\n",
       "      <td>1.74</td>\n",
       "      <td>740</td>\n",
       "    </tr>\n",
       "    <tr>\n",
       "      <th>174</th>\n",
       "      <td>3</td>\n",
       "      <td>13.40</td>\n",
       "      <td>3.91</td>\n",
       "      <td>2.48</td>\n",
       "      <td>23.0</td>\n",
       "      <td>102</td>\n",
       "      <td>1.80</td>\n",
       "      <td>0.75</td>\n",
       "      <td>0.43</td>\n",
       "      <td>1.41</td>\n",
       "      <td>7.30</td>\n",
       "      <td>0.70</td>\n",
       "      <td>1.56</td>\n",
       "      <td>750</td>\n",
       "    </tr>\n",
       "    <tr>\n",
       "      <th>175</th>\n",
       "      <td>3</td>\n",
       "      <td>13.27</td>\n",
       "      <td>4.28</td>\n",
       "      <td>2.26</td>\n",
       "      <td>20.0</td>\n",
       "      <td>120</td>\n",
       "      <td>1.59</td>\n",
       "      <td>0.69</td>\n",
       "      <td>0.43</td>\n",
       "      <td>1.35</td>\n",
       "      <td>10.20</td>\n",
       "      <td>0.59</td>\n",
       "      <td>1.56</td>\n",
       "      <td>835</td>\n",
       "    </tr>\n",
       "    <tr>\n",
       "      <th>176</th>\n",
       "      <td>3</td>\n",
       "      <td>13.17</td>\n",
       "      <td>2.59</td>\n",
       "      <td>2.37</td>\n",
       "      <td>20.0</td>\n",
       "      <td>120</td>\n",
       "      <td>1.65</td>\n",
       "      <td>0.68</td>\n",
       "      <td>0.53</td>\n",
       "      <td>1.46</td>\n",
       "      <td>9.30</td>\n",
       "      <td>0.60</td>\n",
       "      <td>1.62</td>\n",
       "      <td>840</td>\n",
       "    </tr>\n",
       "    <tr>\n",
       "      <th>177</th>\n",
       "      <td>3</td>\n",
       "      <td>14.13</td>\n",
       "      <td>4.10</td>\n",
       "      <td>2.74</td>\n",
       "      <td>24.5</td>\n",
       "      <td>96</td>\n",
       "      <td>2.05</td>\n",
       "      <td>0.76</td>\n",
       "      <td>0.56</td>\n",
       "      <td>1.35</td>\n",
       "      <td>9.20</td>\n",
       "      <td>0.61</td>\n",
       "      <td>1.60</td>\n",
       "      <td>560</td>\n",
       "    </tr>\n",
       "  </tbody>\n",
       "</table>\n",
       "<p>178 rows × 14 columns</p>\n",
       "</div>"
      ],
      "text/plain": [
       "     Type  Alcohol  Malic   Ash  Alcalinity  Magnesium  Phenols  Flavanoids  \\\n",
       "0       1    14.23   1.71  2.43        15.6        127     2.80        3.06   \n",
       "1       1    13.20   1.78  2.14        11.2        100     2.65        2.76   \n",
       "2       1    13.16   2.36  2.67        18.6        101     2.80        3.24   \n",
       "3       1    14.37   1.95  2.50        16.8        113     3.85        3.49   \n",
       "4       1    13.24   2.59  2.87        21.0        118     2.80        2.69   \n",
       "..    ...      ...    ...   ...         ...        ...      ...         ...   \n",
       "173     3    13.71   5.65  2.45        20.5         95     1.68        0.61   \n",
       "174     3    13.40   3.91  2.48        23.0        102     1.80        0.75   \n",
       "175     3    13.27   4.28  2.26        20.0        120     1.59        0.69   \n",
       "176     3    13.17   2.59  2.37        20.0        120     1.65        0.68   \n",
       "177     3    14.13   4.10  2.74        24.5         96     2.05        0.76   \n",
       "\n",
       "     Nonflavanoids  Proanthocyanins  Color   Hue  Dilution  Proline  \n",
       "0             0.28             2.29   5.64  1.04      3.92     1065  \n",
       "1             0.26             1.28   4.38  1.05      3.40     1050  \n",
       "2             0.30             2.81   5.68  1.03      3.17     1185  \n",
       "3             0.24             2.18   7.80  0.86      3.45     1480  \n",
       "4             0.39             1.82   4.32  1.04      2.93      735  \n",
       "..             ...              ...    ...   ...       ...      ...  \n",
       "173           0.52             1.06   7.70  0.64      1.74      740  \n",
       "174           0.43             1.41   7.30  0.70      1.56      750  \n",
       "175           0.43             1.35  10.20  0.59      1.56      835  \n",
       "176           0.53             1.46   9.30  0.60      1.62      840  \n",
       "177           0.56             1.35   9.20  0.61      1.60      560  \n",
       "\n",
       "[178 rows x 14 columns]"
      ]
     },
     "execution_count": 4,
     "metadata": {},
     "output_type": "execute_result"
    }
   ],
   "source": [
    "data=pd.read_csv(\"wine.csv\")\n",
    "data"
   ]
  },
  {
   "cell_type": "markdown",
   "metadata": {},
   "source": [
    "Check if there is any null values"
   ]
  },
  {
   "cell_type": "code",
   "execution_count": 5,
   "metadata": {
    "ExecuteTime": {
     "end_time": "2021-02-13T14:11:47.085534Z",
     "start_time": "2021-02-13T14:11:47.000103Z"
    }
   },
   "outputs": [
    {
     "data": {
      "text/plain": [
       "Type               0\n",
       "Alcohol            0\n",
       "Malic              0\n",
       "Ash                0\n",
       "Alcalinity         0\n",
       "Magnesium          0\n",
       "Phenols            0\n",
       "Flavanoids         0\n",
       "Nonflavanoids      0\n",
       "Proanthocyanins    0\n",
       "Color              0\n",
       "Hue                0\n",
       "Dilution           0\n",
       "Proline            0\n",
       "dtype: int64"
      ]
     },
     "execution_count": 5,
     "metadata": {},
     "output_type": "execute_result"
    }
   ],
   "source": [
    "data.isnull().sum()"
   ]
  },
  {
   "cell_type": "markdown",
   "metadata": {},
   "source": [
    "# preprocessing the data(Normalizing the data)"
   ]
  },
  {
   "cell_type": "code",
   "execution_count": 6,
   "metadata": {
    "ExecuteTime": {
     "end_time": "2021-02-13T14:17:28.975857Z",
     "start_time": "2021-02-13T14:17:28.730123Z"
    }
   },
   "outputs": [
    {
     "data": {
      "text/plain": [
       "array([[ 1.51861254, -0.5622498 ,  0.23205254, ...,  0.36217728,\n",
       "         1.84791957,  1.01300893],\n",
       "       [ 0.24628963, -0.49941338, -0.82799632, ...,  0.40605066,\n",
       "         1.1134493 ,  0.96524152],\n",
       "       [ 0.19687903,  0.02123125,  1.10933436, ...,  0.31830389,\n",
       "         0.78858745,  1.39514818],\n",
       "       ...,\n",
       "       [ 0.33275817,  1.74474449, -0.38935541, ..., -1.61212515,\n",
       "        -1.48544548,  0.28057537],\n",
       "       [ 0.20923168,  0.22769377,  0.01273209, ..., -1.56825176,\n",
       "        -1.40069891,  0.29649784],\n",
       "       [ 1.39508604,  1.58316512,  1.36520822, ..., -1.52437837,\n",
       "        -1.42894777, -0.59516041]])"
      ]
     },
     "execution_count": 6,
     "metadata": {},
     "output_type": "execute_result"
    }
   ],
   "source": [
    "data_norm = scale(data.iloc[:,1:])\n",
    "data_norm"
   ]
  },
  {
   "cell_type": "markdown",
   "metadata": {
    "ExecuteTime": {
     "end_time": "2021-02-13T14:19:27.187308Z",
     "start_time": "2021-02-13T14:19:27.183119Z"
    }
   },
   "source": [
    "# pca"
   ]
  },
  {
   "cell_type": "code",
   "execution_count": 10,
   "metadata": {
    "ExecuteTime": {
     "end_time": "2021-02-13T14:22:11.452001Z",
     "start_time": "2021-02-13T14:22:09.461785Z"
    }
   },
   "outputs": [
    {
     "data": {
      "text/plain": [
       "array([[ 3.31675081e+00, -1.44346263e+00, -1.65739045e-01, ...,\n",
       "        -4.51563395e-01,  5.40810414e-01, -6.62386309e-02],\n",
       "       [ 2.20946492e+00,  3.33392887e-01, -2.02645737e+00, ...,\n",
       "        -1.42657306e-01,  3.88237741e-01,  3.63650247e-03],\n",
       "       [ 2.51674015e+00, -1.03115130e+00,  9.82818670e-01, ...,\n",
       "        -2.86672847e-01,  5.83573183e-04,  2.17165104e-02],\n",
       "       ...,\n",
       "       [-2.67783946e+00, -2.76089913e+00, -9.40941877e-01, ...,\n",
       "         5.12492025e-01,  6.98766451e-01,  7.20776948e-02],\n",
       "       [-2.38701709e+00, -2.29734668e+00, -5.50696197e-01, ...,\n",
       "         2.99821968e-01,  3.39820654e-01, -2.18657605e-02],\n",
       "       [-3.20875816e+00, -2.76891957e+00,  1.01391366e+00, ...,\n",
       "        -2.29964331e-01, -1.88787963e-01, -3.23964720e-01]])"
      ]
     },
     "execution_count": 10,
     "metadata": {},
     "output_type": "execute_result"
    }
   ],
   "source": [
    "pca=PCA(n_components=13)\n",
    "pca_value=pca.fit_transform(data_norm)\n",
    "pca_value"
   ]
  },
  {
   "cell_type": "code",
   "execution_count": 13,
   "metadata": {
    "ExecuteTime": {
     "end_time": "2021-02-13T14:23:11.105175Z",
     "start_time": "2021-02-13T14:23:11.092618Z"
    }
   },
   "outputs": [
    {
     "data": {
      "text/plain": [
       "array([[ 0.1443294 , -0.24518758, -0.00205106, -0.23932041,  0.14199204,\n",
       "         0.39466085,  0.4229343 , -0.2985331 ,  0.31342949, -0.0886167 ,\n",
       "         0.29671456,  0.37616741,  0.28675223],\n",
       "       [-0.48365155, -0.22493093, -0.31606881,  0.0105905 , -0.299634  ,\n",
       "        -0.06503951,  0.00335981, -0.02877949, -0.03930172, -0.52999567,\n",
       "         0.27923515,  0.16449619, -0.36490283],\n",
       "       [-0.20738262,  0.08901289,  0.6262239 ,  0.61208035,  0.13075693,\n",
       "         0.14617896,  0.1506819 ,  0.17036816,  0.14945431, -0.13730621,\n",
       "         0.08522192,  0.16600459, -0.12674592],\n",
       "       [-0.0178563 ,  0.53689028, -0.21417556,  0.06085941, -0.35179658,\n",
       "         0.19806835,  0.15229479, -0.20330102,  0.39905653,  0.06592568,\n",
       "        -0.42777141,  0.18412074, -0.23207086],\n",
       "       [-0.26566365,  0.03521363, -0.14302547,  0.06610294,  0.72704851,\n",
       "        -0.14931841, -0.10902584, -0.50070298,  0.13685982, -0.07643678,\n",
       "        -0.17361452, -0.10116099, -0.1578688 ],\n",
       "       [-0.21353865, -0.53681385, -0.15447466,  0.10082451, -0.03814394,\n",
       "         0.0841223 ,  0.01892002,  0.25859401,  0.53379539,  0.41864414,\n",
       "        -0.10598274, -0.26585107, -0.11972557],\n",
       "       [-0.05639636,  0.42052391, -0.14917061, -0.28696914,  0.3228833 ,\n",
       "        -0.02792498, -0.06068521,  0.59544729,  0.37213935, -0.22771214,\n",
       "         0.23207564, -0.0447637 ,  0.0768045 ],\n",
       "       [-0.39613926, -0.06582674,  0.17026002, -0.42797018,  0.15636143,\n",
       "         0.40593409,  0.18724536,  0.23328465, -0.36822675,  0.03379692,\n",
       "        -0.43662362,  0.07810789, -0.12002267],\n",
       "       [ 0.50861912, -0.07528304, -0.30769445,  0.20044931,  0.27140257,\n",
       "         0.28603452,  0.04957849,  0.19550132, -0.20914487,  0.05621752,\n",
       "         0.08582839,  0.1372269 , -0.57578611],\n",
       "       [ 0.21160473, -0.30907994, -0.02712539,  0.05279942,  0.06787022,\n",
       "        -0.32013135, -0.16315051,  0.21553507,  0.1341839 , -0.29077518,\n",
       "        -0.52239889,  0.52370587,  0.162116  ],\n",
       "       [-0.22591696,  0.07648554, -0.49869142,  0.47931378,  0.07128891,\n",
       "         0.30434119, -0.02569409,  0.11689586, -0.23736257,  0.0318388 ,\n",
       "        -0.04821201,  0.0464233 ,  0.53926983],\n",
       "       [-0.26628645,  0.12169604, -0.04962237, -0.05574287,  0.06222011,\n",
       "        -0.30388245, -0.04289883,  0.04235219, -0.09555303,  0.60422163,\n",
       "         0.259214  ,  0.60095872, -0.07940162],\n",
       "       [ 0.01496997,  0.02596375, -0.14121803,  0.09168285,  0.05677422,\n",
       "        -0.46390791,  0.83225706,  0.11403985, -0.11691707, -0.0119928 ,\n",
       "        -0.08988884, -0.15671813,  0.01444734]])"
      ]
     },
     "execution_count": 13,
     "metadata": {},
     "output_type": "execute_result"
    }
   ],
   "source": [
    "pca.components_"
   ]
  },
  {
   "cell_type": "code",
   "execution_count": 14,
   "metadata": {
    "ExecuteTime": {
     "end_time": "2021-02-13T14:24:48.169029Z",
     "start_time": "2021-02-13T14:24:48.152756Z"
    }
   },
   "outputs": [
    {
     "data": {
      "text/plain": [
       "array([0.36198848, 0.1920749 , 0.11123631, 0.0706903 , 0.06563294,\n",
       "       0.04935823, 0.04238679, 0.02680749, 0.02222153, 0.01930019,\n",
       "       0.01736836, 0.01298233, 0.00795215])"
      ]
     },
     "execution_count": 14,
     "metadata": {},
     "output_type": "execute_result"
    }
   ],
   "source": [
    "var=pca.explained_variance_ratio_\n",
    "var"
   ]
  },
  {
   "cell_type": "code",
   "execution_count": 16,
   "metadata": {
    "ExecuteTime": {
     "end_time": "2021-02-13T14:26:55.490351Z",
     "start_time": "2021-02-13T14:26:55.408678Z"
    }
   },
   "outputs": [
    {
     "data": {
      "text/plain": [
       "array([ 36.2 ,  55.41,  66.53,  73.6 ,  80.16,  85.1 ,  89.34,  92.02,\n",
       "        94.24,  96.17,  97.91,  99.21, 100.01])"
      ]
     },
     "execution_count": 16,
     "metadata": {},
     "output_type": "execute_result"
    }
   ],
   "source": [
    "#cumulative variance how each pc gives\n",
    "var1=np.cumsum(np.round(var,decimals = 4)*100)\n",
    "var1"
   ]
  },
  {
   "cell_type": "code",
   "execution_count": 17,
   "metadata": {
    "ExecuteTime": {
     "end_time": "2021-02-13T14:28:31.964211Z",
     "start_time": "2021-02-13T14:28:30.915895Z"
    }
   },
   "outputs": [
    {
     "data": {
      "text/plain": [
       "[<matplotlib.lines.Line2D at 0x11a727b1e88>]"
      ]
     },
     "execution_count": 17,
     "metadata": {},
     "output_type": "execute_result"
    },
    {
     "data": {
      "image/png": "[encoded data removed]",
      "text/plain": [
       "<Figure size 432x288 with 1 Axes>"
      ]
     },
     "metadata": {
      "needs_background": "light"
     },
     "output_type": "display_data"
    }
   ],
   "source": [
    "plt.plot(var1,color=\"red\")"
   ]
  },
  {
   "cell_type": "code",
   "execution_count": 19,
   "metadata": {
    "ExecuteTime": {
     "end_time": "2021-02-13T14:32:02.919252Z",
     "start_time": "2021-02-13T14:32:02.899596Z"
    }
   },
   "outputs": [
    {
     "data": {
      "text/plain": [
       "array([[ 3.31675081],\n",
       "       [ 2.20946492],\n",
       "       [ 2.51674015],\n",
       "       [ 3.75706561],\n",
       "       [ 1.00890849],\n",
       "       [ 3.05025392],\n",
       "       [ 2.44908967],\n",
       "       [ 2.05943687],\n",
       "       [ 2.5108743 ],\n",
       "       [ 2.75362819],\n",
       "       [ 3.47973668],\n",
       "       [ 1.7547529 ],\n",
       "       [ 2.11346234],\n",
       "       [ 3.45815682],\n",
       "       [ 4.31278391],\n",
       "       [ 2.3051882 ],\n",
       "       [ 2.17195527],\n",
       "       [ 1.89897118],\n",
       "       [ 3.54198508],\n",
       "       [ 2.0845222 ],\n",
       "       [ 3.12440254],\n",
       "       [ 1.08657007],\n",
       "       [ 2.53522408],\n",
       "       [ 1.64498834],\n",
       "       [ 1.76157587],\n",
       "       [ 0.9900791 ],\n",
       "       [ 1.77527763],\n",
       "       [ 1.23542396],\n",
       "       [ 2.18840633],\n",
       "       [ 2.25610898],\n",
       "       [ 2.50022003],\n",
       "       [ 2.67741105],\n",
       "       [ 1.62857912],\n",
       "       [ 1.90269086],\n",
       "       [ 1.41038853],\n",
       "       [ 1.90382623],\n",
       "       [ 1.38486223],\n",
       "       [ 1.12220741],\n",
       "       [ 1.5021945 ],\n",
       "       [ 2.52980109],\n",
       "       [ 2.58809543],\n",
       "       [ 0.66848199],\n",
       "       [ 3.07080699],\n",
       "       [ 0.46220914],\n",
       "       [ 2.10135193],\n",
       "       [ 1.13616618],\n",
       "       [ 2.72660096],\n",
       "       [ 2.82133927],\n",
       "       [ 2.00985085],\n",
       "       [ 2.7074913 ],\n",
       "       [ 3.21491747],\n",
       "       [ 2.85895983],\n",
       "       [ 3.50560436],\n",
       "       [ 2.22479138],\n",
       "       [ 2.14698782],\n",
       "       [ 2.46932948],\n",
       "       [ 2.74151791],\n",
       "       [ 2.17374092],\n",
       "       [ 3.13938015],\n",
       "       [-0.92858197],\n",
       "       [-1.54248014],\n",
       "       [-1.83624976],\n",
       "       [ 0.03060683],\n",
       "       [ 2.05026161],\n",
       "       [-0.60968083],\n",
       "       [ 0.90022784],\n",
       "       [ 2.24850719],\n",
       "       [ 0.18338403],\n",
       "       [-0.81280503],\n",
       "       [ 1.9756205 ],\n",
       "       [-1.57221622],\n",
       "       [ 1.65768181],\n",
       "       [-0.72537239],\n",
       "       [ 2.56222717],\n",
       "       [ 1.83256757],\n",
       "       [-0.8679929 ],\n",
       "       [ 0.3700144 ],\n",
       "       [-1.45737704],\n",
       "       [ 1.26293085],\n",
       "       [ 0.37615037],\n",
       "       [ 0.7620639 ],\n",
       "       [ 1.03457797],\n",
       "       [-0.49487676],\n",
       "       [-2.53897708],\n",
       "       [ 0.83532015],\n",
       "       [ 0.78790461],\n",
       "       [-0.80683216],\n",
       "       [-0.55804262],\n",
       "       [-1.11511104],\n",
       "       [-0.55572283],\n",
       "       [-1.34928528],\n",
       "       [-1.56448261],\n",
       "       [-1.93255561],\n",
       "       [ 0.74666594],\n",
       "       [ 0.95745536],\n",
       "       [ 2.54386518],\n",
       "       [-0.54395259],\n",
       "       [ 1.03104975],\n",
       "       [ 2.25190942],\n",
       "       [ 1.41021602],\n",
       "       [ 0.79771979],\n",
       "       [-0.54953173],\n",
       "       [-0.16117374],\n",
       "       [-0.65979494],\n",
       "       [ 0.39235441],\n",
       "       [-1.77249908],\n",
       "       [-0.36626736],\n",
       "       [-1.62067257],\n",
       "       [ 0.08253578],\n",
       "       [ 1.57827507],\n",
       "       [ 1.42056925],\n",
       "       [-0.27870275],\n",
       "       [-1.30314497],\n",
       "       [-0.45707187],\n",
       "       [-0.49418585],\n",
       "       [ 0.48207441],\n",
       "       [-0.25288888],\n",
       "       [-0.10722764],\n",
       "       [-2.4330126 ],\n",
       "       [-0.55108954],\n",
       "       [ 0.73962193],\n",
       "       [ 1.33632173],\n",
       "       [-1.177087  ],\n",
       "       [-0.46233501],\n",
       "       [ 0.97847408],\n",
       "       [-0.09680973],\n",
       "       [ 0.03848715],\n",
       "       [-1.5971585 ],\n",
       "       [-0.47956492],\n",
       "       [-1.79283347],\n",
       "       [-1.32710166],\n",
       "       [-2.38450083],\n",
       "       [-2.9369401 ],\n",
       "       [-2.14681113],\n",
       "       [-2.36986949],\n",
       "       [-3.06384157],\n",
       "       [-3.91575378],\n",
       "       [-3.93646339],\n",
       "       [-3.09427612],\n",
       "       [-2.37447163],\n",
       "       [-2.77881295],\n",
       "       [-2.28656128],\n",
       "       [-2.98563349],\n",
       "       [-2.3751947 ],\n",
       "       [-2.20986553],\n",
       "       [-2.625621  ],\n",
       "       [-4.28063878],\n",
       "       [-3.58264137],\n",
       "       [-2.80706372],\n",
       "       [-2.89965933],\n",
       "       [-2.32073698],\n",
       "       [-2.54983095],\n",
       "       [-1.81254128],\n",
       "       [-2.76014464],\n",
       "       [-2.7371505 ],\n",
       "       [-3.60486887],\n",
       "       [-2.889826  ],\n",
       "       [-3.39215608],\n",
       "       [-1.0481819 ],\n",
       "       [-1.60991228],\n",
       "       [-3.14313097],\n",
       "       [-2.2401569 ],\n",
       "       [-2.84767378],\n",
       "       [-2.59749706],\n",
       "       [-2.94929937],\n",
       "       [-3.53003227],\n",
       "       [-2.40611054],\n",
       "       [-2.92908473],\n",
       "       [-2.18141278],\n",
       "       [-2.38092779],\n",
       "       [-3.21161722],\n",
       "       [-3.67791872],\n",
       "       [-2.4655558 ],\n",
       "       [-3.37052415],\n",
       "       [-2.60195585],\n",
       "       [-2.67783946],\n",
       "       [-2.38701709],\n",
       "       [-3.20875816]])"
      ]
     },
     "execution_count": 19,
     "metadata": {},
     "output_type": "execute_result"
    }
   ],
   "source": [
    "pca_value[:,0:1]"
   ]
  },
  {
   "cell_type": "code",
   "execution_count": 21,
   "metadata": {
    "ExecuteTime": {
     "end_time": "2021-02-13T14:36:00.542272Z",
     "start_time": "2021-02-13T14:36:00.342152Z"
    }
   },
   "outputs": [
    {
     "data": {
      "text/html": [
       "<div>\n",
       "<style scoped>\n",
       "    .dataframe tbody tr th:only-of-type {\n",
       "        vertical-align: middle;\n",
       "    }\n",
       "\n",
       "    .dataframe tbody tr th {\n",
       "        vertical-align: top;\n",
       "    }\n",
       "\n",
       "    .dataframe thead th {\n",
       "        text-align: right;\n",
       "    }\n",
       "</style>\n",
       "<table border=\"1\" class=\"dataframe\">\n",
       "  <thead>\n",
       "    <tr style=\"text-align: right;\">\n",
       "      <th></th>\n",
       "      <th>pc1</th>\n",
       "      <th>pc2</th>\n",
       "      <th>pc3</th>\n",
       "      <th>Type</th>\n",
       "    </tr>\n",
       "  </thead>\n",
       "  <tbody>\n",
       "    <tr>\n",
       "      <th>0</th>\n",
       "      <td>3.316751</td>\n",
       "      <td>-1.443463</td>\n",
       "      <td>-0.165739</td>\n",
       "      <td>1</td>\n",
       "    </tr>\n",
       "    <tr>\n",
       "      <th>1</th>\n",
       "      <td>2.209465</td>\n",
       "      <td>0.333393</td>\n",
       "      <td>-2.026457</td>\n",
       "      <td>1</td>\n",
       "    </tr>\n",
       "    <tr>\n",
       "      <th>2</th>\n",
       "      <td>2.516740</td>\n",
       "      <td>-1.031151</td>\n",
       "      <td>0.982819</td>\n",
       "      <td>1</td>\n",
       "    </tr>\n",
       "    <tr>\n",
       "      <th>3</th>\n",
       "      <td>3.757066</td>\n",
       "      <td>-2.756372</td>\n",
       "      <td>-0.176192</td>\n",
       "      <td>1</td>\n",
       "    </tr>\n",
       "    <tr>\n",
       "      <th>4</th>\n",
       "      <td>1.008908</td>\n",
       "      <td>-0.869831</td>\n",
       "      <td>2.026688</td>\n",
       "      <td>1</td>\n",
       "    </tr>\n",
       "    <tr>\n",
       "      <th>...</th>\n",
       "      <td>...</td>\n",
       "      <td>...</td>\n",
       "      <td>...</td>\n",
       "      <td>...</td>\n",
       "    </tr>\n",
       "    <tr>\n",
       "      <th>173</th>\n",
       "      <td>-3.370524</td>\n",
       "      <td>-2.216289</td>\n",
       "      <td>-0.342570</td>\n",
       "      <td>3</td>\n",
       "    </tr>\n",
       "    <tr>\n",
       "      <th>174</th>\n",
       "      <td>-2.601956</td>\n",
       "      <td>-1.757229</td>\n",
       "      <td>0.207581</td>\n",
       "      <td>3</td>\n",
       "    </tr>\n",
       "    <tr>\n",
       "      <th>175</th>\n",
       "      <td>-2.677839</td>\n",
       "      <td>-2.760899</td>\n",
       "      <td>-0.940942</td>\n",
       "      <td>3</td>\n",
       "    </tr>\n",
       "    <tr>\n",
       "      <th>176</th>\n",
       "      <td>-2.387017</td>\n",
       "      <td>-2.297347</td>\n",
       "      <td>-0.550696</td>\n",
       "      <td>3</td>\n",
       "    </tr>\n",
       "    <tr>\n",
       "      <th>177</th>\n",
       "      <td>-3.208758</td>\n",
       "      <td>-2.768920</td>\n",
       "      <td>1.013914</td>\n",
       "      <td>3</td>\n",
       "    </tr>\n",
       "  </tbody>\n",
       "</table>\n",
       "<p>178 rows × 4 columns</p>\n",
       "</div>"
      ],
      "text/plain": [
       "          pc1       pc2       pc3  Type\n",
       "0    3.316751 -1.443463 -0.165739     1\n",
       "1    2.209465  0.333393 -2.026457     1\n",
       "2    2.516740 -1.031151  0.982819     1\n",
       "3    3.757066 -2.756372 -0.176192     1\n",
       "4    1.008908 -0.869831  2.026688     1\n",
       "..        ...       ...       ...   ...\n",
       "173 -3.370524 -2.216289 -0.342570     3\n",
       "174 -2.601956 -1.757229  0.207581     3\n",
       "175 -2.677839 -2.760899 -0.940942     3\n",
       "176 -2.387017 -2.297347 -0.550696     3\n",
       "177 -3.208758 -2.768920  1.013914     3\n",
       "\n",
       "[178 rows x 4 columns]"
      ]
     },
     "execution_count": 21,
     "metadata": {},
     "output_type": "execute_result"
    }
   ],
   "source": [
    "finalDf=pd.concat([pd.DataFrame(pca_value[:,0:3],columns=['pc1','pc2','pc3']),data[['Type']]],axis=1)\n",
    "finalDf"
   ]
  },
  {
   "cell_type": "markdown",
   "metadata": {},
   "source": [
    "# making a hierarchical clustering"
   ]
  },
  {
   "cell_type": "code",
   "execution_count": 22,
   "metadata": {
    "ExecuteTime": {
     "end_time": "2021-02-13T14:38:36.456215Z",
     "start_time": "2021-02-13T14:38:28.240138Z"
    }
   },
   "outputs": [
    {
     "data": {
      "image/png": "[encoded data removed]",
      "text/plain": [
       "<Figure size 2160x720 with 1 Axes>"
      ]
     },
     "metadata": {
      "needs_background": "light"
     },
     "output_type": "display_data"
    }
   ],
   "source": [
    "z = linkage(finalDf.iloc[:,:3], method=\"complete\",metric=\"euclidean\")\n",
    "plt.figure(figsize=(30, 10))\n",
    "plt.title('Hierarchical Clustering Dendrogram')\n",
    "plt.xlabel('Index')\n",
    "plt.ylabel('Distance')\n",
    "sch.dendrogram(z)\n",
    "plt.show()"
   ]
  },
  {
   "cell_type": "code",
   "execution_count": 26,
   "metadata": {
    "ExecuteTime": {
     "end_time": "2021-02-13T14:55:24.990901Z",
     "start_time": "2021-02-13T14:55:24.772761Z"
    }
   },
   "outputs": [
    {
     "data": {
      "text/html": [
       "<div>\n",
       "<style scoped>\n",
       "    .dataframe tbody tr th:only-of-type {\n",
       "        vertical-align: middle;\n",
       "    }\n",
       "\n",
       "    .dataframe tbody tr th {\n",
       "        vertical-align: top;\n",
       "    }\n",
       "\n",
       "    .dataframe thead th {\n",
       "        text-align: right;\n",
       "    }\n",
       "</style>\n",
       "<table border=\"1\" class=\"dataframe\">\n",
       "  <thead>\n",
       "    <tr style=\"text-align: right;\">\n",
       "      <th></th>\n",
       "      <th>Type</th>\n",
       "      <th>Alcohol</th>\n",
       "      <th>Malic</th>\n",
       "      <th>Ash</th>\n",
       "      <th>Alcalinity</th>\n",
       "      <th>Magnesium</th>\n",
       "      <th>Phenols</th>\n",
       "      <th>Flavanoids</th>\n",
       "      <th>Nonflavanoids</th>\n",
       "      <th>Proanthocyanins</th>\n",
       "      <th>Color</th>\n",
       "      <th>Hue</th>\n",
       "      <th>Dilution</th>\n",
       "      <th>Proline</th>\n",
       "      <th>clust</th>\n",
       "    </tr>\n",
       "  </thead>\n",
       "  <tbody>\n",
       "    <tr>\n",
       "      <th>0</th>\n",
       "      <td>1</td>\n",
       "      <td>14.23</td>\n",
       "      <td>1.71</td>\n",
       "      <td>2.43</td>\n",
       "      <td>15.6</td>\n",
       "      <td>127</td>\n",
       "      <td>2.80</td>\n",
       "      <td>3.06</td>\n",
       "      <td>0.28</td>\n",
       "      <td>2.29</td>\n",
       "      <td>5.64</td>\n",
       "      <td>1.04</td>\n",
       "      <td>3.92</td>\n",
       "      <td>1065</td>\n",
       "      <td>0</td>\n",
       "    </tr>\n",
       "    <tr>\n",
       "      <th>1</th>\n",
       "      <td>1</td>\n",
       "      <td>13.20</td>\n",
       "      <td>1.78</td>\n",
       "      <td>2.14</td>\n",
       "      <td>11.2</td>\n",
       "      <td>100</td>\n",
       "      <td>2.65</td>\n",
       "      <td>2.76</td>\n",
       "      <td>0.26</td>\n",
       "      <td>1.28</td>\n",
       "      <td>4.38</td>\n",
       "      <td>1.05</td>\n",
       "      <td>3.40</td>\n",
       "      <td>1050</td>\n",
       "      <td>0</td>\n",
       "    </tr>\n",
       "    <tr>\n",
       "      <th>2</th>\n",
       "      <td>1</td>\n",
       "      <td>13.16</td>\n",
       "      <td>2.36</td>\n",
       "      <td>2.67</td>\n",
       "      <td>18.6</td>\n",
       "      <td>101</td>\n",
       "      <td>2.80</td>\n",
       "      <td>3.24</td>\n",
       "      <td>0.30</td>\n",
       "      <td>2.81</td>\n",
       "      <td>5.68</td>\n",
       "      <td>1.03</td>\n",
       "      <td>3.17</td>\n",
       "      <td>1185</td>\n",
       "      <td>0</td>\n",
       "    </tr>\n",
       "    <tr>\n",
       "      <th>3</th>\n",
       "      <td>1</td>\n",
       "      <td>14.37</td>\n",
       "      <td>1.95</td>\n",
       "      <td>2.50</td>\n",
       "      <td>16.8</td>\n",
       "      <td>113</td>\n",
       "      <td>3.85</td>\n",
       "      <td>3.49</td>\n",
       "      <td>0.24</td>\n",
       "      <td>2.18</td>\n",
       "      <td>7.80</td>\n",
       "      <td>0.86</td>\n",
       "      <td>3.45</td>\n",
       "      <td>1480</td>\n",
       "      <td>0</td>\n",
       "    </tr>\n",
       "    <tr>\n",
       "      <th>4</th>\n",
       "      <td>1</td>\n",
       "      <td>13.24</td>\n",
       "      <td>2.59</td>\n",
       "      <td>2.87</td>\n",
       "      <td>21.0</td>\n",
       "      <td>118</td>\n",
       "      <td>2.80</td>\n",
       "      <td>2.69</td>\n",
       "      <td>0.39</td>\n",
       "      <td>1.82</td>\n",
       "      <td>4.32</td>\n",
       "      <td>1.04</td>\n",
       "      <td>2.93</td>\n",
       "      <td>735</td>\n",
       "      <td>0</td>\n",
       "    </tr>\n",
       "    <tr>\n",
       "      <th>...</th>\n",
       "      <td>...</td>\n",
       "      <td>...</td>\n",
       "      <td>...</td>\n",
       "      <td>...</td>\n",
       "      <td>...</td>\n",
       "      <td>...</td>\n",
       "      <td>...</td>\n",
       "      <td>...</td>\n",
       "      <td>...</td>\n",
       "      <td>...</td>\n",
       "      <td>...</td>\n",
       "      <td>...</td>\n",
       "      <td>...</td>\n",
       "      <td>...</td>\n",
       "      <td>...</td>\n",
       "    </tr>\n",
       "    <tr>\n",
       "      <th>173</th>\n",
       "      <td>3</td>\n",
       "      <td>13.71</td>\n",
       "      <td>5.65</td>\n",
       "      <td>2.45</td>\n",
       "      <td>20.5</td>\n",
       "      <td>95</td>\n",
       "      <td>1.68</td>\n",
       "      <td>0.61</td>\n",
       "      <td>0.52</td>\n",
       "      <td>1.06</td>\n",
       "      <td>7.70</td>\n",
       "      <td>0.64</td>\n",
       "      <td>1.74</td>\n",
       "      <td>740</td>\n",
       "      <td>1</td>\n",
       "    </tr>\n",
       "    <tr>\n",
       "      <th>174</th>\n",
       "      <td>3</td>\n",
       "      <td>13.40</td>\n",
       "      <td>3.91</td>\n",
       "      <td>2.48</td>\n",
       "      <td>23.0</td>\n",
       "      <td>102</td>\n",
       "      <td>1.80</td>\n",
       "      <td>0.75</td>\n",
       "      <td>0.43</td>\n",
       "      <td>1.41</td>\n",
       "      <td>7.30</td>\n",
       "      <td>0.70</td>\n",
       "      <td>1.56</td>\n",
       "      <td>750</td>\n",
       "      <td>1</td>\n",
       "    </tr>\n",
       "    <tr>\n",
       "      <th>175</th>\n",
       "      <td>3</td>\n",
       "      <td>13.27</td>\n",
       "      <td>4.28</td>\n",
       "      <td>2.26</td>\n",
       "      <td>20.0</td>\n",
       "      <td>120</td>\n",
       "      <td>1.59</td>\n",
       "      <td>0.69</td>\n",
       "      <td>0.43</td>\n",
       "      <td>1.35</td>\n",
       "      <td>10.20</td>\n",
       "      <td>0.59</td>\n",
       "      <td>1.56</td>\n",
       "      <td>835</td>\n",
       "      <td>1</td>\n",
       "    </tr>\n",
       "    <tr>\n",
       "      <th>176</th>\n",
       "      <td>3</td>\n",
       "      <td>13.17</td>\n",
       "      <td>2.59</td>\n",
       "      <td>2.37</td>\n",
       "      <td>20.0</td>\n",
       "      <td>120</td>\n",
       "      <td>1.65</td>\n",
       "      <td>0.68</td>\n",
       "      <td>0.53</td>\n",
       "      <td>1.46</td>\n",
       "      <td>9.30</td>\n",
       "      <td>0.60</td>\n",
       "      <td>1.62</td>\n",
       "      <td>840</td>\n",
       "      <td>1</td>\n",
       "    </tr>\n",
       "    <tr>\n",
       "      <th>177</th>\n",
       "      <td>3</td>\n",
       "      <td>14.13</td>\n",
       "      <td>4.10</td>\n",
       "      <td>2.74</td>\n",
       "      <td>24.5</td>\n",
       "      <td>96</td>\n",
       "      <td>2.05</td>\n",
       "      <td>0.76</td>\n",
       "      <td>0.56</td>\n",
       "      <td>1.35</td>\n",
       "      <td>9.20</td>\n",
       "      <td>0.61</td>\n",
       "      <td>1.60</td>\n",
       "      <td>560</td>\n",
       "      <td>1</td>\n",
       "    </tr>\n",
       "  </tbody>\n",
       "</table>\n",
       "<p>178 rows × 15 columns</p>\n",
       "</div>"
      ],
      "text/plain": [
       "     Type  Alcohol  Malic   Ash  Alcalinity  Magnesium  Phenols  Flavanoids  \\\n",
       "0       1    14.23   1.71  2.43        15.6        127     2.80        3.06   \n",
       "1       1    13.20   1.78  2.14        11.2        100     2.65        2.76   \n",
       "2       1    13.16   2.36  2.67        18.6        101     2.80        3.24   \n",
       "3       1    14.37   1.95  2.50        16.8        113     3.85        3.49   \n",
       "4       1    13.24   2.59  2.87        21.0        118     2.80        2.69   \n",
       "..    ...      ...    ...   ...         ...        ...      ...         ...   \n",
       "173     3    13.71   5.65  2.45        20.5         95     1.68        0.61   \n",
       "174     3    13.40   3.91  2.48        23.0        102     1.80        0.75   \n",
       "175     3    13.27   4.28  2.26        20.0        120     1.59        0.69   \n",
       "176     3    13.17   2.59  2.37        20.0        120     1.65        0.68   \n",
       "177     3    14.13   4.10  2.74        24.5         96     2.05        0.76   \n",
       "\n",
       "     Nonflavanoids  Proanthocyanins  Color   Hue  Dilution  Proline  clust  \n",
       "0             0.28             2.29   5.64  1.04      3.92     1065      0  \n",
       "1             0.26             1.28   4.38  1.05      3.40     1050      0  \n",
       "2             0.30             2.81   5.68  1.03      3.17     1185      0  \n",
       "3             0.24             2.18   7.80  0.86      3.45     1480      0  \n",
       "4             0.39             1.82   4.32  1.04      2.93      735      0  \n",
       "..             ...              ...    ...   ...       ...      ...    ...  \n",
       "173           0.52             1.06   7.70  0.64      1.74      740      1  \n",
       "174           0.43             1.41   7.30  0.70      1.56      750      1  \n",
       "175           0.43             1.35  10.20  0.59      1.56      835      1  \n",
       "176           0.53             1.46   9.30  0.60      1.62      840      1  \n",
       "177           0.56             1.35   9.20  0.61      1.60      560      1  \n",
       "\n",
       "[178 rows x 15 columns]"
      ]
     },
     "execution_count": 26,
     "metadata": {},
     "output_type": "execute_result"
    }
   ],
   "source": [
    "h_complete=AgglomerativeClustering(n_clusters=3,linkage='complete',affinity=\"euclidean\").fit(finalDf.iloc[:,:3])\n",
    "cluster_labels=pd.Series(h_complete.labels_)\n",
    "cluster_labels\n",
    "data['clust']=cluster_labels\n",
    "data"
   ]
  },
  {
   "cell_type": "markdown",
   "metadata": {},
   "source": [
    "# clustering the wcss or sse"
   ]
  },
  {
   "cell_type": "code",
   "execution_count": 30,
   "metadata": {
    "ExecuteTime": {
     "end_time": "2021-02-13T15:07:04.104874Z",
     "start_time": "2021-02-13T15:07:00.238578Z"
    }
   },
   "outputs": [
    {
     "data": {
      "image/png": "[encoded data removed]",
      "text/plain": [
       "<Figure size 720x576 with 1 Axes>"
      ]
     },
     "metadata": {
      "needs_background": "light"
     },
     "output_type": "display_data"
    }
   ],
   "source": [
    "fig=plt.figure(figsize=(10,8))\n",
    "WCSS=[]\n",
    "for i in range(1,10):\n",
    "    clf=KMeans(n_clusters=i)\n",
    "    clf.fit(finalDf.iloc[:,:3])\n",
    "    WCSS.append(clf.inertia_)\n",
    "plt.plot(range(1,10),WCSS,\"o-r\")\n",
    "plt.title('the Elbow method')\n",
    "plt.ylabel(\"Wcss\")\n",
    "plt.xlabel(\"number of clusters\")\n",
    "plt.show()\n"
   ]
  },
  {
   "cell_type": "markdown",
   "metadata": {},
   "source": [
    "The elbow is at 3 principal values"
   ]
  },
  {
   "cell_type": "code",
   "execution_count": 31,
   "metadata": {
    "ExecuteTime": {
     "end_time": "2021-02-13T16:21:22.048303Z",
     "start_time": "2021-02-13T16:21:21.264597Z"
    }
   },
   "outputs": [],
   "source": [
    "# Building the predicting the model\n",
    "clf = KMeans(n_clusters=3)\n",
    "y_KMeans = clf.fit_predict(finalDf.iloc[:,:3])"
   ]
  },
  {
   "cell_type": "code",
   "execution_count": 33,
   "metadata": {
    "ExecuteTime": {
     "end_time": "2021-02-13T16:28:08.359592Z",
     "start_time": "2021-02-13T16:28:08.237577Z"
    }
   },
   "outputs": [
    {
     "data": {
      "text/html": [
       "<div>\n",
       "<style scoped>\n",
       "    .dataframe tbody tr th:only-of-type {\n",
       "        vertical-align: middle;\n",
       "    }\n",
       "\n",
       "    .dataframe tbody tr th {\n",
       "        vertical-align: top;\n",
       "    }\n",
       "\n",
       "    .dataframe thead th {\n",
       "        text-align: right;\n",
       "    }\n",
       "</style>\n",
       "<table border=\"1\" class=\"dataframe\">\n",
       "  <thead>\n",
       "    <tr style=\"text-align: right;\">\n",
       "      <th></th>\n",
       "      <th>Type</th>\n",
       "      <th>Alcohol</th>\n",
       "      <th>Malic</th>\n",
       "      <th>Ash</th>\n",
       "      <th>Alcalinity</th>\n",
       "      <th>Magnesium</th>\n",
       "      <th>Phenols</th>\n",
       "      <th>Flavanoids</th>\n",
       "      <th>Nonflavanoids</th>\n",
       "      <th>Proanthocyanins</th>\n",
       "      <th>Color</th>\n",
       "      <th>Hue</th>\n",
       "      <th>Dilution</th>\n",
       "      <th>Proline</th>\n",
       "      <th>clust</th>\n",
       "      <th>k_clust</th>\n",
       "    </tr>\n",
       "  </thead>\n",
       "  <tbody>\n",
       "    <tr>\n",
       "      <th>0</th>\n",
       "      <td>1</td>\n",
       "      <td>14.23</td>\n",
       "      <td>1.71</td>\n",
       "      <td>2.43</td>\n",
       "      <td>15.6</td>\n",
       "      <td>127</td>\n",
       "      <td>2.80</td>\n",
       "      <td>3.06</td>\n",
       "      <td>0.28</td>\n",
       "      <td>2.29</td>\n",
       "      <td>5.64</td>\n",
       "      <td>1.04</td>\n",
       "      <td>3.92</td>\n",
       "      <td>1065</td>\n",
       "      <td>0</td>\n",
       "      <td>2</td>\n",
       "    </tr>\n",
       "    <tr>\n",
       "      <th>1</th>\n",
       "      <td>1</td>\n",
       "      <td>13.20</td>\n",
       "      <td>1.78</td>\n",
       "      <td>2.14</td>\n",
       "      <td>11.2</td>\n",
       "      <td>100</td>\n",
       "      <td>2.65</td>\n",
       "      <td>2.76</td>\n",
       "      <td>0.26</td>\n",
       "      <td>1.28</td>\n",
       "      <td>4.38</td>\n",
       "      <td>1.05</td>\n",
       "      <td>3.40</td>\n",
       "      <td>1050</td>\n",
       "      <td>0</td>\n",
       "      <td>2</td>\n",
       "    </tr>\n",
       "    <tr>\n",
       "      <th>2</th>\n",
       "      <td>1</td>\n",
       "      <td>13.16</td>\n",
       "      <td>2.36</td>\n",
       "      <td>2.67</td>\n",
       "      <td>18.6</td>\n",
       "      <td>101</td>\n",
       "      <td>2.80</td>\n",
       "      <td>3.24</td>\n",
       "      <td>0.30</td>\n",
       "      <td>2.81</td>\n",
       "      <td>5.68</td>\n",
       "      <td>1.03</td>\n",
       "      <td>3.17</td>\n",
       "      <td>1185</td>\n",
       "      <td>0</td>\n",
       "      <td>2</td>\n",
       "    </tr>\n",
       "    <tr>\n",
       "      <th>3</th>\n",
       "      <td>1</td>\n",
       "      <td>14.37</td>\n",
       "      <td>1.95</td>\n",
       "      <td>2.50</td>\n",
       "      <td>16.8</td>\n",
       "      <td>113</td>\n",
       "      <td>3.85</td>\n",
       "      <td>3.49</td>\n",
       "      <td>0.24</td>\n",
       "      <td>2.18</td>\n",
       "      <td>7.80</td>\n",
       "      <td>0.86</td>\n",
       "      <td>3.45</td>\n",
       "      <td>1480</td>\n",
       "      <td>0</td>\n",
       "      <td>2</td>\n",
       "    </tr>\n",
       "    <tr>\n",
       "      <th>4</th>\n",
       "      <td>1</td>\n",
       "      <td>13.24</td>\n",
       "      <td>2.59</td>\n",
       "      <td>2.87</td>\n",
       "      <td>21.0</td>\n",
       "      <td>118</td>\n",
       "      <td>2.80</td>\n",
       "      <td>2.69</td>\n",
       "      <td>0.39</td>\n",
       "      <td>1.82</td>\n",
       "      <td>4.32</td>\n",
       "      <td>1.04</td>\n",
       "      <td>2.93</td>\n",
       "      <td>735</td>\n",
       "      <td>0</td>\n",
       "      <td>2</td>\n",
       "    </tr>\n",
       "    <tr>\n",
       "      <th>...</th>\n",
       "      <td>...</td>\n",
       "      <td>...</td>\n",
       "      <td>...</td>\n",
       "      <td>...</td>\n",
       "      <td>...</td>\n",
       "      <td>...</td>\n",
       "      <td>...</td>\n",
       "      <td>...</td>\n",
       "      <td>...</td>\n",
       "      <td>...</td>\n",
       "      <td>...</td>\n",
       "      <td>...</td>\n",
       "      <td>...</td>\n",
       "      <td>...</td>\n",
       "      <td>...</td>\n",
       "      <td>...</td>\n",
       "    </tr>\n",
       "    <tr>\n",
       "      <th>173</th>\n",
       "      <td>3</td>\n",
       "      <td>13.71</td>\n",
       "      <td>5.65</td>\n",
       "      <td>2.45</td>\n",
       "      <td>20.5</td>\n",
       "      <td>95</td>\n",
       "      <td>1.68</td>\n",
       "      <td>0.61</td>\n",
       "      <td>0.52</td>\n",
       "      <td>1.06</td>\n",
       "      <td>7.70</td>\n",
       "      <td>0.64</td>\n",
       "      <td>1.74</td>\n",
       "      <td>740</td>\n",
       "      <td>1</td>\n",
       "      <td>0</td>\n",
       "    </tr>\n",
       "    <tr>\n",
       "      <th>174</th>\n",
       "      <td>3</td>\n",
       "      <td>13.40</td>\n",
       "      <td>3.91</td>\n",
       "      <td>2.48</td>\n",
       "      <td>23.0</td>\n",
       "      <td>102</td>\n",
       "      <td>1.80</td>\n",
       "      <td>0.75</td>\n",
       "      <td>0.43</td>\n",
       "      <td>1.41</td>\n",
       "      <td>7.30</td>\n",
       "      <td>0.70</td>\n",
       "      <td>1.56</td>\n",
       "      <td>750</td>\n",
       "      <td>1</td>\n",
       "      <td>0</td>\n",
       "    </tr>\n",
       "    <tr>\n",
       "      <th>175</th>\n",
       "      <td>3</td>\n",
       "      <td>13.27</td>\n",
       "      <td>4.28</td>\n",
       "      <td>2.26</td>\n",
       "      <td>20.0</td>\n",
       "      <td>120</td>\n",
       "      <td>1.59</td>\n",
       "      <td>0.69</td>\n",
       "      <td>0.43</td>\n",
       "      <td>1.35</td>\n",
       "      <td>10.20</td>\n",
       "      <td>0.59</td>\n",
       "      <td>1.56</td>\n",
       "      <td>835</td>\n",
       "      <td>1</td>\n",
       "      <td>0</td>\n",
       "    </tr>\n",
       "    <tr>\n",
       "      <th>176</th>\n",
       "      <td>3</td>\n",
       "      <td>13.17</td>\n",
       "      <td>2.59</td>\n",
       "      <td>2.37</td>\n",
       "      <td>20.0</td>\n",
       "      <td>120</td>\n",
       "      <td>1.65</td>\n",
       "      <td>0.68</td>\n",
       "      <td>0.53</td>\n",
       "      <td>1.46</td>\n",
       "      <td>9.30</td>\n",
       "      <td>0.60</td>\n",
       "      <td>1.62</td>\n",
       "      <td>840</td>\n",
       "      <td>1</td>\n",
       "      <td>0</td>\n",
       "    </tr>\n",
       "    <tr>\n",
       "      <th>177</th>\n",
       "      <td>3</td>\n",
       "      <td>14.13</td>\n",
       "      <td>4.10</td>\n",
       "      <td>2.74</td>\n",
       "      <td>24.5</td>\n",
       "      <td>96</td>\n",
       "      <td>2.05</td>\n",
       "      <td>0.76</td>\n",
       "      <td>0.56</td>\n",
       "      <td>1.35</td>\n",
       "      <td>9.20</td>\n",
       "      <td>0.61</td>\n",
       "      <td>1.60</td>\n",
       "      <td>560</td>\n",
       "      <td>1</td>\n",
       "      <td>0</td>\n",
       "    </tr>\n",
       "  </tbody>\n",
       "</table>\n",
       "<p>178 rows × 16 columns</p>\n",
       "</div>"
      ],
      "text/plain": [
       "     Type  Alcohol  Malic   Ash  Alcalinity  Magnesium  Phenols  Flavanoids  \\\n",
       "0       1    14.23   1.71  2.43        15.6        127     2.80        3.06   \n",
       "1       1    13.20   1.78  2.14        11.2        100     2.65        2.76   \n",
       "2       1    13.16   2.36  2.67        18.6        101     2.80        3.24   \n",
       "3       1    14.37   1.95  2.50        16.8        113     3.85        3.49   \n",
       "4       1    13.24   2.59  2.87        21.0        118     2.80        2.69   \n",
       "..    ...      ...    ...   ...         ...        ...      ...         ...   \n",
       "173     3    13.71   5.65  2.45        20.5         95     1.68        0.61   \n",
       "174     3    13.40   3.91  2.48        23.0        102     1.80        0.75   \n",
       "175     3    13.27   4.28  2.26        20.0        120     1.59        0.69   \n",
       "176     3    13.17   2.59  2.37        20.0        120     1.65        0.68   \n",
       "177     3    14.13   4.10  2.74        24.5         96     2.05        0.76   \n",
       "\n",
       "     Nonflavanoids  Proanthocyanins  Color   Hue  Dilution  Proline  clust  \\\n",
       "0             0.28             2.29   5.64  1.04      3.92     1065      0   \n",
       "1             0.26             1.28   4.38  1.05      3.40     1050      0   \n",
       "2             0.30             2.81   5.68  1.03      3.17     1185      0   \n",
       "3             0.24             2.18   7.80  0.86      3.45     1480      0   \n",
       "4             0.39             1.82   4.32  1.04      2.93      735      0   \n",
       "..             ...              ...    ...   ...       ...      ...    ...   \n",
       "173           0.52             1.06   7.70  0.64      1.74      740      1   \n",
       "174           0.43             1.41   7.30  0.70      1.56      750      1   \n",
       "175           0.43             1.35  10.20  0.59      1.56      835      1   \n",
       "176           0.53             1.46   9.30  0.60      1.62      840      1   \n",
       "177           0.56             1.35   9.20  0.61      1.60      560      1   \n",
       "\n",
       "     k_clust  \n",
       "0          2  \n",
       "1          2  \n",
       "2          2  \n",
       "3          2  \n",
       "4          2  \n",
       "..       ...  \n",
       "173        0  \n",
       "174        0  \n",
       "175        0  \n",
       "176        0  \n",
       "177        0  \n",
       "\n",
       "[178 rows x 16 columns]"
      ]
     },
     "execution_count": 33,
     "metadata": {},
     "output_type": "execute_result"
    }
   ],
   "source": [
    "predicted = pd.Series(y_KMeans)\n",
    "data['k_clust']=predicted\n",
    "data"
   ]
  },
  {
   "cell_type": "markdown",
   "metadata": {},
   "source": [
    "# plotting the clusters"
   ]
  },
  {
   "cell_type": "code",
   "execution_count": 36,
   "metadata": {
    "ExecuteTime": {
     "end_time": "2021-02-13T16:50:25.049133Z",
     "start_time": "2021-02-13T16:50:24.319142Z"
    }
   },
   "outputs": [
    {
     "data": {
      "text/plain": [
       "<matplotlib.collections.PathCollection at 0x11a7e4fb308>"
      ]
     },
     "execution_count": 36,
     "metadata": {},
     "output_type": "execute_result"
    },
    {
     "data": {
      "image/png": "[encoded data removed]",
      "text/plain": [
       "<Figure size 576x360 with 1 Axes>"
      ]
     },
     "metadata": {
      "needs_background": "light"
     },
     "output_type": "display_data"
    }
   ],
   "source": [
    "plt.rcParams[\"figure.figsize\"]=(8,5)\n",
    "df0 =data[data.k_clust==0]\n",
    "df1 =data[data.k_clust==1]\n",
    "df2 =data[data.k_clust==2]\n",
    "plt.scatter(df0.k_clust,df0.Alcohol, color=\"green\")\n",
    "plt.scatter(df1.k_clust,df1.Alcohol, color=\"red\")\n",
    "plt.scatter(df2.k_clust,df2.Alcohol, color=\"yellow\")\n"
   ]
  },
  {
   "cell_type": "code",
   "execution_count": 41,
   "metadata": {
    "ExecuteTime": {
     "end_time": "2021-02-13T17:00:43.834225Z",
     "start_time": "2021-02-13T17:00:43.133221Z"
    }
   },
   "outputs": [
    {
     "data": {
      "image/png": "[encoded data removed]",
      "text/plain": [
       "<Figure size 576x360 with 1 Axes>"
      ]
     },
     "metadata": {
      "needs_background": "light"
     },
     "output_type": "display_data"
    }
   ],
   "source": [
    "sns.scatterplot(x=\"Alcohol\",y=\"Dilution\",hue=data.k_clust,data=data)\n",
    "plt.ylabel(\"Alcohal\")\n",
    "plt.xlabel(\"Dilution\")\n",
    "plt.title(\"k-means clustering of wine data\")\n",
    "plt.show()"
   ]
  },
  {
   "cell_type": "markdown",
   "metadata": {},
   "source": [
    "  Conclusion: Even though the data is compressed using PCA we find that we are retaining good amount of information as we can still find 3 different types of wine before and after compressing the data\n"
   ]
  },
  {
   "cell_type": "code",
   "execution_count": null,
   "metadata": {},
   "outputs": [],
   "source": []
  }
 ],
 "metadata": {
  "kernelspec": {
   "display_name": "Python 3",
   "language": "python",
   "name": "python3"
  },
  "language_info": {
   "codemirror_mode": {
    "name": "ipython",
    "version": 3
   },
   "file_extension": ".py",
   "mimetype": "text/x-python",
   "name": "python",
   "nbconvert_exporter": "python",
   "pygments_lexer": "ipython3",
   "version": "3.7.6"
  },
  "toc": {
   "base_numbering": 1,
   "nav_menu": {},
   "number_sections": true,
   "sideBar": true,
   "skip_h1_title": false,
   "title_cell": "Table of Contents",
   "title_sidebar": "Contents",
   "toc_cell": false,
   "toc_position": {},
   "toc_section_display": true,
   "toc_window_display": false
  },
  "varInspector": {
   "cols": {
    "lenName": 16,
    "lenType": 16,
    "lenVar": 40
   },
   "kernels_config": {
    "python": {
     "delete_cmd_postfix": "",
     "delete_cmd_prefix": "del ",
     "library": "var_list.py",
     "varRefreshCmd": "print(var_dic_list())"
    },
    "r": {
     "delete_cmd_postfix": ") ",
     "delete_cmd_prefix": "rm(",
     "library": "var_list.r",
     "varRefreshCmd": "cat(var_dic_list()) "
    }
   },
   "types_to_exclude": [
    "module",
    "function",
    "builtin_function_or_method",
    "instance",
    "_Feature"
   ],
   "window_display": false
  }
 },
 "nbformat": 4,
 "nbformat_minor": 4
}
